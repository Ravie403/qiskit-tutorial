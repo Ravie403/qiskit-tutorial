{
  "nbformat": 4,
  "nbformat_minor": 0,
  "metadata": {
    "colab": {
      "name": "tutorial1.ipynb",
      "provenance": [],
      "collapsed_sections": [],
      "authorship_tag": "ABX9TyPBnURjzJ6VSCtwHdVohsGD"
    },
    "kernelspec": {
      "name": "python3",
      "display_name": "Python 3"
    },
    "language_info": {
      "name": "python"
    }
  },
  "cells": [
    {
      "cell_type": "markdown",
      "metadata": {
        "id": "XLXIojCUxnYp"
      },
      "source": [
        "# Qiskit Tutorialを触る\n",
        "[Tutorial](https://qiskit.org/documentation/intro_tutorial1.html)\n",
        "---"
      ]
    },
    {
      "cell_type": "code",
      "metadata": {
        "id": "BHlArx43v1Oc"
      },
      "source": [
        "# Ready to use Qiskit (for Google Colab)\n",
        "!pip install qiskit"
      ],
      "execution_count": null,
      "outputs": []
    },
    {
      "cell_type": "code",
      "metadata": {
        "id": "GKVGKhMdwp7k"
      },
      "source": [
        ""
      ],
      "execution_count": null,
      "outputs": []
    }
  ]
}