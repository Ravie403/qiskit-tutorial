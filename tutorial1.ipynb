{
  "nbformat": 4,
  "nbformat_minor": 0,
  "metadata": {
    "colab": {
      "name": "tutorial1.ipynb",
      "provenance": [],
      "collapsed_sections": [],
      "authorship_tag": "ABX9TyPY5M/Se0gKArITGoom/zOx"
    },
    "kernelspec": {
      "name": "python3",
      "display_name": "Python 3"
    },
    "language_info": {
      "name": "python"
    }
  },
  "cells": [
    {
      "cell_type": "markdown",
      "metadata": {
        "id": "XLXIojCUxnYp"
      },
      "source": [
        "# Qiskit Tutorialを触る\n",
        "Ref. -> [Tutorial](https://qiskit.org/documentation/intro_tutorial1.html)\n",
        "---"
      ]
    },
    {
      "cell_type": "markdown",
      "metadata": {
        "id": "9nvQ2lneGqdR"
      },
      "source": [
        "## install qiskit to Colaboratory"
      ]
    },
    {
      "cell_type": "code",
      "metadata": {
        "id": "BHlArx43v1Oc"
      },
      "source": [
        "# Ready to use Qiskit (for Google Colab)\n",
        "!pip install qiskit pylatexenc"
      ],
      "execution_count": null,
      "outputs": []
    },
    {
      "cell_type": "markdown",
      "metadata": {
        "id": "HoiPoZPiGmvG"
      },
      "source": [
        "## import package"
      ]
    },
    {
      "cell_type": "code",
      "metadata": {
        "id": "GKVGKhMdwp7k"
      },
      "source": [
        "import numpy as np\n",
        "from qiskit import QuantumCircuit, transpile\n",
        "from qiskit.providers.aer import QasmSimulator\n",
        "from qiskit.visualization import plot_histogram"
      ],
      "execution_count": 6,
      "outputs": []
    },
    {
      "cell_type": "markdown",
      "metadata": {
        "id": "qfEgipwsHPJG"
      },
      "source": [
        "## initialize variables"
      ]
    },
    {
      "cell_type": "code",
      "metadata": {
        "id": "JUVWPEAMHOgB"
      },
      "source": [
        "circuit = QuantumCircuit(2, 2)\n"
      ],
      "execution_count": 3,
      "outputs": []
    },
    {
      "cell_type": "markdown",
      "metadata": {
        "id": "OdJ8Ab6tIWly"
      },
      "source": [
        "## add gates"
      ]
    },
    {
      "cell_type": "code",
      "metadata": {
        "colab": {
          "base_uri": "https://localhost:8080/"
        },
        "id": "4MkpFD0kIYxK",
        "outputId": "bc782bf9-5f28-4ca4-a67e-46a29bb26d17"
      },
      "source": [
        "circuit.h(0)\n",
        "circuit.cx(0, 1)\n",
        "circuit.measure([0, 1], [0, 1])"
      ],
      "execution_count": 4,
      "outputs": [
        {
          "output_type": "execute_result",
          "data": {
            "text/plain": [
              "<qiskit.circuit.instructionset.InstructionSet at 0x7fd59a607950>"
            ]
          },
          "metadata": {},
          "execution_count": 4
        }
      ]
    },
    {
      "cell_type": "markdown",
      "metadata": {
        "id": "Uns-H6tEI_qv"
      },
      "source": [
        "## visualize the circuit"
      ]
    },
    {
      "cell_type": "code",
      "metadata": {
        "colab": {
          "base_uri": "https://localhost:8080/",
          "height": 185
        },
        "id": "TGRfmh0fJCoX",
        "outputId": "60dd11ca-77ff-4153-c5a1-c4034ee09646"
      },
      "source": [
        "# change output for mpl (need pylatexenc)\n",
        "circuit.draw(output='mpl')"
      ],
      "execution_count": 5,
      "outputs": [
        {
          "output_type": "execute_result",
          "data": {
            "image/png": "[encoded data removed]",
            "text/plain": [
              "<Figure size 327.252x204.68 with 1 Axes>"
            ]
          },
          "metadata": {},
          "execution_count": 5
        }
      ]
    },
    {
      "cell_type": "markdown",
      "metadata": {
        "id": "F9M_UbZFNkwg"
      },
      "source": [
        "## simulation"
      ]
    },
    {
      "cell_type": "code",
      "metadata": {
        "colab": {
          "base_uri": "https://localhost:8080/"
        },
        "id": "kJPyhRigNmZQ",
        "outputId": "d31cd1fc-3c1e-492c-8d6e-e3a9af064439"
      },
      "source": [
        "simulator = QasmSimulator()\n",
        "compiled_circuit = transpile(circuit, simulator)\n",
        "job = simulator.run(compiled_circuit, shots=1000)\n",
        "result = job.result()\n",
        "counts = result.get_counts(circuit)\n",
        "print(f\"Total count for 00 and 11: {counts}\")"
      ],
      "execution_count": 8,
      "outputs": [
        {
          "output_type": "stream",
          "name": "stdout",
          "text": [
            "Total count for 00 and 11: {'11': 512, '00': 488}\n"
          ]
        }
      ]
    },
    {
      "cell_type": "markdown",
      "metadata": {
        "id": "coHNHWE2OhIR"
      },
      "source": [
        "## visualize result"
      ]
    },
    {
      "cell_type": "code",
      "metadata": {
        "colab": {
          "base_uri": "https://localhost:8080/",
          "height": 331
        },
        "id": "JBMiebP5OnAy",
        "outputId": "9783a6b4-d95c-4206-e8b8-74f6f4e7d9f9"
      },
      "source": [
        "plot_histogram(counts)"
      ],
      "execution_count": 9,
      "outputs": [
        {
          "output_type": "execute_result",
          "data": {
            "image/png": "[encoded data removed]",
            "text/plain": [
              "<Figure size 504x360 with 1 Axes>"
            ]
          },
          "metadata": {},
          "execution_count": 9
        }
      ]
    }
  ]
}