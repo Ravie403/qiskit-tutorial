{
  "nbformat": 4,
  "nbformat_minor": 0,
  "metadata": {
    "colab": {
      "name": "tutorial1.ipynb",
      "provenance": [],
      "collapsed_sections": [],
      "authorship_tag": "ABX9TyPrUJzfK//fRdw4q7hDcbZ3"
    },
    "kernelspec": {
      "name": "python3",
      "display_name": "Python 3"
    },
    "language_info": {
      "name": "python"
    }
  },
  "cells": [
    {
      "cell_type": "markdown",
      "metadata": {
        "id": "XLXIojCUxnYp"
      },
      "source": [
        "# Qiskit Tutorialを触る\n",
        "Ref. -> [Tutorial](https://qiskit.org/documentation/intro_tutorial1.html)\n",
        "---"
      ]
    },
    {
      "cell_type": "markdown",
      "metadata": {
        "id": "9nvQ2lneGqdR"
      },
      "source": [
        "## install qiskit to Colaboratory"
      ]
    },
    {
      "cell_type": "code",
      "metadata": {
        "id": "BHlArx43v1Oc"
      },
      "source": [
        "# Ready to use Qiskit (for Google Colab)\n",
        "!pip install qiskit"
      ],
      "execution_count": null,
      "outputs": []
    },
    {
      "cell_type": "markdown",
      "metadata": {
        "id": "HoiPoZPiGmvG"
      },
      "source": [
        "## import package"
      ]
    },
    {
      "cell_type": "code",
      "metadata": {
        "id": "GKVGKhMdwp7k"
      },
      "source": [
        "import numpy as np\n",
        "from qiskit import QuantumCircuit\n",
        "from qiskit.providers.aer import QasmSimulator\n",
        "from qiskit.visualization import plot_histogram"
      ],
      "execution_count": 2,
      "outputs": []
    },
    {
      "cell_type": "markdown",
      "metadata": {
        "id": "qfEgipwsHPJG"
      },
      "source": [
        "## initialize variables"
      ]
    },
    {
      "cell_type": "code",
      "metadata": {
        "id": "JUVWPEAMHOgB"
      },
      "source": [
        "circuit = QuantumCircuit(2, 2)"
      ],
      "execution_count": 3,
      "outputs": []
    },
    {
      "cell_type": "markdown",
      "metadata": {
        "id": "OdJ8Ab6tIWly"
      },
      "source": [
        "## add gates"
      ]
    },
    {
      "cell_type": "code",
      "metadata": {
        "id": "4MkpFD0kIYxK"
      },
      "source": [
        "circuit.h(0)\n",
        "circuit.cx(0, 1)\n",
        "circuit.measure([0, 1], [0, 1])"
      ],
      "execution_count": null,
      "outputs": []
    },
    {
      "cell_type": "markdown",
      "metadata": {
        "id": "Uns-H6tEI_qv"
      },
      "source": [
        "## visualize the circuit"
      ]
    },
    {
      "cell_type": "code",
      "metadata": {
        "colab": {
          "base_uri": "https://localhost:8080/",
          "height": 122
        },
        "id": "TGRfmh0fJCoX",
        "outputId": "4d2636f4-3116-49b6-cd33-50e78b72cb58"
      },
      "source": [
        "circuit.draw()"
      ],
      "execution_count": 5,
      "outputs": [
        {
          "output_type": "execute_result",
          "data": {
            "text/html": [
              "<pre style=\"word-wrap: normal;white-space: pre;background: #fff0;line-height: 1.1;font-family: &quot;Courier New&quot;,Courier,monospace\">     ┌───┐     ┌─┐   \n",
              "q_0: ┤ H ├──■──┤M├───\n",
              "     └───┘┌─┴─┐└╥┘┌─┐\n",
              "q_1: ─────┤ X ├─╫─┤M├\n",
              "          └───┘ ║ └╥┘\n",
              "c: 2/═══════════╩══╩═\n",
              "                0  1 </pre>"
            ],
            "text/plain": [
              "     ┌───┐     ┌─┐   \n",
              "q_0: ┤ H ├──■──┤M├───\n",
              "     └───┘┌─┴─┐└╥┘┌─┐\n",
              "q_1: ─────┤ X ├─╫─┤M├\n",
              "          └───┘ ║ └╥┘\n",
              "c: 2/═══════════╩══╩═\n",
              "                0  1 "
            ]
          },
          "metadata": {},
          "execution_count": 5
        }
      ]
    }
  ]
}