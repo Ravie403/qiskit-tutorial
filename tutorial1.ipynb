{
  "nbformat": 4,
  "nbformat_minor": 0,
  "metadata": {
    "colab": {
      "name": "tutorial1.ipynb",
      "provenance": [],
      "collapsed_sections": [],
      "authorship_tag": "ABX9TyOJMUyw1wpAfP2aoAJusMVP"
    },
    "kernelspec": {
      "name": "python3",
      "display_name": "Python 3"
    },
    "language_info": {
      "name": "python"
    }
  },
  "cells": [
    {
      "cell_type": "markdown",
      "metadata": {
        "id": "XLXIojCUxnYp"
      },
      "source": [
        "# Qiskit Tutorialを触る\n",
        "Ref. -> [Tutorial](https://qiskit.org/documentation/intro_tutorial1.html)\n",
        "---"
      ]
    },
    {
      "cell_type": "markdown",
      "metadata": {
        "id": "9nvQ2lneGqdR"
      },
      "source": [
        "## install qiskit to Colaboratory\n",
        "---"
      ]
    },
    {
      "cell_type": "code",
      "metadata": {
        "id": "BHlArx43v1Oc"
      },
      "source": [
        "# Ready to use Qiskit (for Google Colab)\n",
        "!pip install qiskit pylatexenc"
      ],
      "execution_count": null,
      "outputs": []
    },
    {
      "cell_type": "markdown",
      "metadata": {
        "id": "HoiPoZPiGmvG"
      },
      "source": [
        "## import package\n",
        "---"
      ]
    },
    {
      "cell_type": "code",
      "metadata": {
        "id": "GKVGKhMdwp7k"
      },
      "source": [
        "import numpy as np\n",
        "from qiskit import QuantumCircuit, transpile\n",
        "from qiskit.providers.aer import QasmSimulator\n",
        "from qiskit.visualization import plot_histogram"
      ],
      "execution_count": 2,
      "outputs": []
    },
    {
      "cell_type": "markdown",
      "metadata": {
        "id": "qfEgipwsHPJG"
      },
      "source": [
        "## initialize variables\n",
        "---\n",
        "define two Qubits and two ClassicalBits\n",
        "\n",
        "Qbits : $|00\\rangle$\n"
      ]
    },
    {
      "cell_type": "code",
      "metadata": {
        "id": "JUVWPEAMHOgB"
      },
      "source": [
        "circuit = QuantumCircuit(2, 2)\n"
      ],
      "execution_count": 3,
      "outputs": []
    },
    {
      "cell_type": "markdown",
      "metadata": {
        "id": "OdJ8Ab6tIWly"
      },
      "source": [
        "## add gates\n",
        "---\n",
        "make Bell circuit.  \n",
        "$B(|00\\rangle) = (|00\\rangle + |11\\rangle)\\frac{1}{\\sqrt{2}}$\n",
        "\n",
        "1. add Hadamard gate to q0.   \n",
        "$H(|0\\rangle)|0\\rangle = \\displaystyle \\left((|0\\rangle + |1\\rangle)\\frac{1}{\\sqrt{2}}\\right)|0\\rangle$\n",
        "2. add CNOT gate q0, q1.   \n",
        "$\\mathrm{CNOT}( H(|0\\rangle) + |0\\rangle)$  \n",
        "$\\displaystyle = \\left((|0\\rangle + |1)\\rangle\\frac{1}{\\sqrt{2}}\\right)|0\\rangle$  \n",
        "$\\displaystyle = (|00\\rangle + |11\\rangle)\\frac{1}{\\sqrt{2}}$\n",
        "\n",
        "3. measure qbit to classical bit."
      ]
    },
    {
      "cell_type": "code",
      "metadata": {
        "id": "4MkpFD0kIYxK"
      },
      "source": [
        "circuit.h(0)\n",
        "circuit.cx(0, 1)\n",
        "circuit.measure([0, 1], [0, 1])"
      ],
      "execution_count": null,
      "outputs": []
    },
    {
      "cell_type": "markdown",
      "metadata": {
        "id": "Uns-H6tEI_qv"
      },
      "source": [
        "## visualize the circuit\n",
        "---"
      ]
    },
    {
      "cell_type": "code",
      "metadata": {
        "colab": {
          "base_uri": "https://localhost:8080/",
          "height": 185
        },
        "id": "TGRfmh0fJCoX",
        "outputId": "1311b5fd-a8a2-42e6-bb89-678783bff7d1"
      },
      "source": [
        "# change output for mpl (need pylatexenc)\n",
        "circuit.draw(output='mpl')"
      ],
      "execution_count": 5,
      "outputs": [
        {
          "output_type": "execute_result",
          "data": {
            "image/png": "[encoded data removed]",
            "text/plain": [
              "<Figure size 327.252x204.68 with 1 Axes>"
            ]
          },
          "metadata": {},
          "execution_count": 5
        }
      ]
    },
    {
      "cell_type": "markdown",
      "metadata": {
        "id": "F9M_UbZFNkwg"
      },
      "source": [
        "## simulation\n",
        "---"
      ]
    },
    {
      "cell_type": "code",
      "metadata": {
        "colab": {
          "base_uri": "https://localhost:8080/"
        },
        "id": "kJPyhRigNmZQ",
        "outputId": "4ddc6547-225c-4015-ec18-13f69c079182"
      },
      "source": [
        "simulator = QasmSimulator()\n",
        "compiled_circuit = transpile(circuit, simulator)\n",
        "job = simulator.run(compiled_circuit, shots=1000)\n",
        "result = job.result()\n",
        "counts = result.get_counts(circuit)\n",
        "print(f\"Total count for 00 and 11: {counts}\")"
      ],
      "execution_count": 6,
      "outputs": [
        {
          "output_type": "stream",
          "name": "stdout",
          "text": [
            "Total count for 00 and 11: {'00': 508, '11': 492}\n"
          ]
        }
      ]
    },
    {
      "cell_type": "markdown",
      "metadata": {
        "id": "coHNHWE2OhIR"
      },
      "source": [
        "## visualize result\n",
        "---"
      ]
    },
    {
      "cell_type": "code",
      "metadata": {
        "colab": {
          "base_uri": "https://localhost:8080/",
          "height": 332
        },
        "id": "JBMiebP5OnAy",
        "outputId": "2a1139d5-547f-46ed-f94f-09e3c64141a4"
      },
      "source": [
        "plot_histogram(counts)"
      ],
      "execution_count": 7,
      "outputs": [
        {
          "output_type": "execute_result",
          "data": {
            "image/png": "[encoded data removed]",
            "text/plain": [
              "<Figure size 504x360 with 1 Axes>"
            ]
          },
          "metadata": {},
          "execution_count": 7
        }
      ]
    }
  ]
}