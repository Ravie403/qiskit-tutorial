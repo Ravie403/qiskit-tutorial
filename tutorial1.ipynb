{
  "nbformat": 4,
  "nbformat_minor": 0,
  "metadata": {
    "colab": {
      "name": "tutorial1.ipynb",
      "provenance": [],
      "collapsed_sections": [],
      "authorship_tag": "ABX9TyPIo1fQSav04ZNEO4+/stW0"
    },
    "kernelspec": {
      "name": "python3",
      "display_name": "Python 3"
    },
    "language_info": {
      "name": "python"
    }
  },
  "cells": [
    {
      "cell_type": "markdown",
      "metadata": {
        "id": "XLXIojCUxnYp"
      },
      "source": [
        "# Qiskit Tutorialを触る\n",
        "Ref. -> [Tutorial](https://qiskit.org/documentation/intro_tutorial1.html)\n",
        "---"
      ]
    },
    {
      "cell_type": "markdown",
      "metadata": {
        "id": "9nvQ2lneGqdR"
      },
      "source": [
        "## install qiskit to Colaboratory"
      ]
    },
    {
      "cell_type": "code",
      "metadata": {
        "id": "BHlArx43v1Oc"
      },
      "source": [
        "# Ready to use Qiskit (for Google Colab)\n",
        "!pip install qiskit pylatexenc"
      ],
      "execution_count": null,
      "outputs": []
    },
    {
      "cell_type": "markdown",
      "metadata": {
        "id": "HoiPoZPiGmvG"
      },
      "source": [
        "## import package"
      ]
    },
    {
      "cell_type": "code",
      "metadata": {
        "id": "GKVGKhMdwp7k"
      },
      "source": [
        "import numpy as np\n",
        "from qiskit import QuantumCircuit\n",
        "from qiskit.providers.aer import QasmSimulator\n",
        "from qiskit.visualization import plot_histogram"
      ],
      "execution_count": 2,
      "outputs": []
    },
    {
      "cell_type": "markdown",
      "metadata": {
        "id": "qfEgipwsHPJG"
      },
      "source": [
        "## initialize variables"
      ]
    },
    {
      "cell_type": "code",
      "metadata": {
        "id": "JUVWPEAMHOgB"
      },
      "source": [
        "circuit = QuantumCircuit(2, 2)\n"
      ],
      "execution_count": 3,
      "outputs": []
    },
    {
      "cell_type": "markdown",
      "metadata": {
        "id": "OdJ8Ab6tIWly"
      },
      "source": [
        "## add gates"
      ]
    },
    {
      "cell_type": "code",
      "metadata": {
        "colab": {
          "base_uri": "https://localhost:8080/"
        },
        "id": "4MkpFD0kIYxK",
        "outputId": "bc782bf9-5f28-4ca4-a67e-46a29bb26d17"
      },
      "source": [
        "circuit.h(0)\n",
        "circuit.cx(0, 1)\n",
        "circuit.measure([0, 1], [0, 1])"
      ],
      "execution_count": 4,
      "outputs": [
        {
          "output_type": "execute_result",
          "data": {
            "text/plain": [
              "<qiskit.circuit.instructionset.InstructionSet at 0x7fd59a607950>"
            ]
          },
          "metadata": {},
          "execution_count": 4
        }
      ]
    },
    {
      "cell_type": "markdown",
      "metadata": {
        "id": "Uns-H6tEI_qv"
      },
      "source": [
        "## visualize the circuit"
      ]
    },
    {
      "cell_type": "code",
      "metadata": {
        "colab": {
          "base_uri": "https://localhost:8080/",
          "height": 185
        },
        "id": "TGRfmh0fJCoX",
        "outputId": "60dd11ca-77ff-4153-c5a1-c4034ee09646"
      },
      "source": [
        "circuit.draw(output='mpl')"
      ],
      "execution_count": 5,
      "outputs": [
        {
          "output_type": "execute_result",
          "data": {
            "image/png": "[encoded data removed]",
            "text/plain": [
              "<Figure size 327.252x204.68 with 1 Axes>"
            ]
          },
          "metadata": {},
          "execution_count": 5
        }
      ]
    }
  ]
}