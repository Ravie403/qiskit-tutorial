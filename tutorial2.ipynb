{
  "nbformat": 4,
  "nbformat_minor": 0,
  "metadata": {
    "colab": {
      "name": "tutorial2.ipynb",
      "provenance": [],
      "collapsed_sections": [],
      "authorship_tag": "ABX9TyMA+28k0XIh7MXd/xkVaAiN"
    },
    "kernelspec": {
      "name": "python3",
      "display_name": "Python 3"
    },
    "language_info": {
      "name": "python"
    }
  },
  "cells": [
    {
      "cell_type": "markdown",
      "metadata": {
        "id": "G7LEs7ozERH2"
      },
      "source": [
        "# 各種ゲートによって何が起こるかを見てみる"
      ]
    },
    {
      "cell_type": "markdown",
      "metadata": {
        "id": "fyV-WW8iEORs"
      },
      "source": [
        "## 事前準備"
      ]
    },
    {
      "cell_type": "code",
      "metadata": {
        "id": "JzAJKxeeEBt6"
      },
      "source": [
        "# Ready to use Qiskit (for Google Colab)\n",
        "!pip install qiskit pylatexenc"
      ],
      "execution_count": null,
      "outputs": []
    },
    {
      "cell_type": "code",
      "metadata": {
        "id": "GKVGKhMdwp7k"
      },
      "source": [
        "import numpy as np\n",
        "from qiskit import QuantumCircuit, transpile\n",
        "from qiskit.providers.aer import QasmSimulator\n",
        "from qiskit.visualization import plot_histogram"
      ],
      "execution_count": 2,
      "outputs": []
    },
    {
      "cell_type": "markdown",
      "metadata": {
        "id": "9FQ8_RY9GR-_"
      },
      "source": [
        "## シミュレータの用意"
      ]
    },
    {
      "cell_type": "code",
      "metadata": {
        "id": "CDcutzK6GVYv"
      },
      "source": [
        "simulator = QasmSimulator()"
      ],
      "execution_count": 3,
      "outputs": []
    },
    {
      "cell_type": "markdown",
      "metadata": {
        "id": "ctFCT577EvKy"
      },
      "source": [
        "## アダマールゲート\n",
        "\n",
        "---\n",
        "\n",
        "アダマールゲート $H$は  \n",
        "$\\displaystyle H(|0\\rangle) = \\frac{1}{\\sqrt{2}}\\left( |0\\rangle + |1\\rangle \\right)$\n",
        "\n",
        "となる、つまり1量子ビットにアダマールゲートを適用するとほぼ等確率で0と1が観測されることを確認する\n"
      ]
    },
    {
      "cell_type": "code",
      "metadata": {
        "colab": {
          "base_uri": "https://localhost:8080/",
          "height": 140
        },
        "id": "fGpW8JfrEysI",
        "outputId": "0005ca35-f60c-498f-97ed-fcc04b7f2e62"
      },
      "source": [
        "c1 = QuantumCircuit(1,1)\n",
        "c1.h(0)\n",
        "c1.measure(0, 0)\n",
        "c1.draw(output='mpl')"
      ],
      "execution_count": 4,
      "outputs": [
        {
          "output_type": "execute_result",
          "data": {
            "image/png": "[encoded data removed]",
            "text/plain": [
              "<Figure size 193.726x144.48 with 1 Axes>"
            ]
          },
          "metadata": {},
          "execution_count": 4
        }
      ]
    },
    {
      "cell_type": "code",
      "metadata": {
        "colab": {
          "base_uri": "https://localhost:8080/",
          "height": 327
        },
        "id": "qIoc0kFyG44f",
        "outputId": "f88ec273-e1b3-48cc-d609-bf393258a4ad"
      },
      "source": [
        "compiled_c1 = transpile(c1, simulator)\n",
        "j1 = simulator.run(compiled_c1, shots=1000)\n",
        "r1 = j1.result()\n",
        "plot_histogram(r1.get_counts(c1))"
      ],
      "execution_count": 5,
      "outputs": [
        {
          "output_type": "execute_result",
          "data": {
            "image/png": "[encoded data removed]",
            "text/plain": [
              "<Figure size 504x360 with 1 Axes>"
            ]
          },
          "metadata": {},
          "execution_count": 5
        }
      ]
    },
    {
      "cell_type": "markdown",
      "metadata": {
        "id": "t6gDmecWHMEH"
      },
      "source": [
        "## CNOTゲート\n",
        "\n",
        "CNOTゲートのIN-OUT対応表は以下\n",
        "\n",
        "|INPUT|OUTPUT|\n",
        "|----|----|  \n",
        "|\\|$00\\rangle$|\\|$00\\rangle$|\n",
        "|\\|$01\\rangle$|\\|$01\\rangle$|\n",
        "|\\|$10\\rangle$|\\|$10\\rangle$|\n",
        "|\\|$11\\rangle$|\\|$11\\rangle$|\n",
        "\n",
        "以下では$|00\\rangle$が$|00\\rangle$のみの出力になることを確かめる"
      ]
    },
    {
      "cell_type": "code",
      "metadata": {
        "colab": {
          "base_uri": "https://localhost:8080/",
          "height": 185
        },
        "id": "D5w3nBBMMrJd",
        "outputId": "b1dfd1ae-2d87-4ff1-ce6d-9cd3fcc9ff06"
      },
      "source": [
        "c2 = QuantumCircuit(2, 2)\n",
        "c2.cx(0, 1)\n",
        "c2.measure([0, 1], [0, 1])\n",
        "c2.draw(output='mpl')"
      ],
      "execution_count": 6,
      "outputs": [
        {
          "output_type": "execute_result",
          "data": {
            "image/png": "[encoded data removed]",
            "text/plain": [
              "<Figure size 267.052x204.68 with 1 Axes>"
            ]
          },
          "metadata": {},
          "execution_count": 6
        }
      ]
    },
    {
      "cell_type": "code",
      "metadata": {
        "colab": {
          "base_uri": "https://localhost:8080/",
          "height": 331
        },
        "id": "vL9Teb1LNkIE",
        "outputId": "550ecbad-0de4-494c-83be-358dee815c9a"
      },
      "source": [
        "compiled_c2 = transpile(c2, simulator)\n",
        "j2 = simulator.run(compiled_c2, shots=1000)\n",
        "r2 = j2.result()\n",
        "plot_histogram(r2.get_counts(c2))"
      ],
      "execution_count": 7,
      "outputs": [
        {
          "output_type": "execute_result",
          "data": {
            "image/png": "[encoded data removed]",
            "text/plain": [
              "<Figure size 504x360 with 1 Axes>"
            ]
          },
          "metadata": {},
          "execution_count": 7
        }
      ]
    }
  ]
}